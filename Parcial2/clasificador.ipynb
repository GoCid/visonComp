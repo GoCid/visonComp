{
 "cells": [
  {
   "cell_type": "code",
   "execution_count": null,
   "metadata": {},
   "outputs": [],
   "source": [
    "import numpy as np\n",
    "import cv2\n",
    "import os"
   ]
  },
  {
   "cell_type": "code",
   "execution_count": null,
   "metadata": {},
   "outputs": [],
   "source": [
    "path = 'imgQuery' # Path to the query dataset\n",
    "orb = cv2.ORB_create(nfeatures=1000) # ORB detector\n",
    "sift = cv2.SIFT_create(nfeatures=1000) # SIFT detector\n",
    "img = []\n",
    "classnames = [] # List of class names\n",
    "\n",
    "myList = os.listdir(path) # List of all the images in the query dataset"
   ]
  },
  {
   "cell_type": "code",
   "execution_count": null,
   "metadata": {},
   "outputs": [],
   "source": [
    "print(myList)\n",
    "print(\"Total Classes Detected:\",len(myList)) # Print the total number of classes detected"
   ]
  },
  {
   "cell_type": "code",
   "execution_count": null,
   "metadata": {},
   "outputs": [],
   "source": [
    "for cl in myList: # Loop through all the classes\n",
    "    imgCur = cv2.imread(f'{path}/{cl}',0) # Read the image\n",
    "    img.append(imgCur) # Append the image to the list\n",
    "    classnames.append(os.path.splitext(cl)[0]) # Append the class name to the list"
   ]
  },
  {
   "cell_type": "code",
   "execution_count": null,
   "metadata": {},
   "outputs": [],
   "source": [
    "print(classnames)"
   ]
  },
  {
   "cell_type": "code",
   "execution_count": null,
   "metadata": {},
   "outputs": [],
   "source": [
    "def findDes(images): # Function to find the descriptors of all the images\n",
    "    desList = []\n",
    "    for img in images:\n",
    "        kp, des = orb.detectAndCompute(img,None)    # Find the keypoints and descriptors orb \n",
    "        desList.append(des)\n",
    "    return desList\n",
    "    "
   ]
  },
  {
   "cell_type": "code",
   "execution_count": null,
   "metadata": {},
   "outputs": [],
   "source": [
    "def findDessift(images): # Function to find the descriptors of all the images\n",
    "    dessList = []\n",
    "    for img in images:\n",
    "        kps, dess = sift.detectAndCompute(img,None) # Find the keypoints and descriptors sift\n",
    "        dessList.append(dess)\n",
    "    return dessList"
   ]
  },
  {
   "cell_type": "code",
   "execution_count": null,
   "metadata": {},
   "outputs": [],
   "source": [
    "def findID(img, desList, thres=15): # Function to find the ID of the image\n",
    "    kp2, des2 = orb.detectAndCompute(img, None)\n",
    "    bf = cv2.BFMatcher() # Create the BFMatcher object\n",
    "    matchList = []\n",
    "    finalVal = -1\n",
    "    try:\n",
    "        for des in desList:\n",
    "            matches = bf.knnMatch(des, des2, k=2)\n",
    "            good = []\n",
    "            for m,n in matches:\n",
    "                if m.distance < 0.75*n.distance:\n",
    "                    good.append([m])\n",
    "            matchList.append(len(good))\n",
    "    except:\n",
    "        pass\n",
    "    if len(matchList)!=0:\n",
    "        if max(matchList) > thres:\n",
    "            finalVal = matchList.index(max(matchList))\n",
    "    return finalVal"
   ]
  },
  {
   "cell_type": "code",
   "execution_count": null,
   "metadata": {},
   "outputs": [],
   "source": [
    "def findSID(img,dessList,thres=15): # Function to find the ID of the image\n",
    "    kps2, dess2 = sift.detectAndCompute(img, None)\n",
    "    bf = cv2.BFMatcher() # Create the BFMatcher object\n",
    "    matchLists = []\n",
    "    finalVal = -1\n",
    "    try:\n",
    "        for dess in dessList:\n",
    "            matches = bf.knnMatch(dess, dess2, k=2)\n",
    "            good = []\n",
    "            for m,n in matches:\n",
    "                if m.distance < 0.75*n.distance:\n",
    "                    good.append([m])\n",
    "            matchLists.append(len(good))\n",
    "    except:\n",
    "        pass\n",
    "    if len(matchLists)!=0:\n",
    "        if max(matchLists) > thres:\n",
    "            finalVal = matchLists.index(max(matchLists))\n",
    "    return finalVal"
   ]
  },
  {
   "cell_type": "code",
   "execution_count": null,
   "metadata": {},
   "outputs": [],
   "source": [
    "cap = cv2.VideoCapture(0) # Capture the video from the webcam"
   ]
  },
  {
   "cell_type": "code",
   "execution_count": null,
   "metadata": {},
   "outputs": [],
   "source": [
    "deslist = findDes(img) # Find the descriptors of all the images\n",
    "desslist = findDessift(img) # Find the descriptors of all the images\n",
    "print(len(deslist)) # Print the total number of descriptors\n",
    "print(len(desslist)) # Print the total number of descriptors\n",
    "\n",
    "while True:\n",
    "    success,img2 = cap.read() # Read the video\n",
    "    imgOriginal = img2.copy() # Copy the frame\n",
    "    img2 = cv2.cvtColor(img2,cv2.COLOR_BGR2GRAY) # Convert the frame to grayscale\n",
    " \n",
    "    id = findID(img2,deslist) # Find the descriptors of the frame\n",
    "    ids = findSID(img2,desslist) # Find the descriptors of the frame\n",
    "    if ids != -1:\n",
    "        cv2.putText(imgOriginal, 'SIFT '+classnames[ids], (50, 50), cv2.FONT_HERSHEY_COMPLEX, 1, (255, 0, 255), 2)\n",
    "         \n",
    "    if id != -1:\n",
    "         \n",
    "        cv2.putText(imgOriginal, 'ORB '+classnames[id], (50,100), cv2.FONT_HERSHEY_COMPLEX, 1, (0,255,0),2)\n",
    "    \n",
    "    cv2.imshow('img2',imgOriginal) # Show the original frame\n",
    "    cv2.waitKey(1) # Wait for 1 millisecond\n"
   ]
  }
 ],
 "metadata": {
  "kernelspec": {
   "display_name": "Python 3.10.7 64-bit",
   "language": "python",
   "name": "python3"
  },
  "language_info": {
   "codemirror_mode": {
    "name": "ipython",
    "version": 3
   },
   "file_extension": ".py",
   "mimetype": "text/x-python",
   "name": "python",
   "nbconvert_exporter": "python",
   "pygments_lexer": "ipython3",
   "version": "3.10.7"
  },
  "orig_nbformat": 4,
  "vscode": {
   "interpreter": {
    "hash": "aee8b7b246df8f9039afb4144a1f6fd8d2ca17a180786b69acc140d282b71a49"
   }
  }
 },
 "nbformat": 4,
 "nbformat_minor": 2
}
